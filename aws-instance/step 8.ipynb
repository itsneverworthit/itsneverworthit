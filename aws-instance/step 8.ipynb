{
 "cells": [
  {
   "cell_type": "code",
   "execution_count": 26,
   "metadata": {},
   "outputs": [],
   "source": [
    "import numpy as np \n",
    "import matplotlib\n",
    "import matplotlib.pyplot as plt \n",
    "%matplotlib inline\n",
    "import pandas as pd \n",
    "import findspark\n",
    "findspark.init('/home/ubuntu/spark-2.1.1-bin-hadoop2.7')\n",
    "from pyspark.ml.classification import DecisionTreeClassifier,GBTClassifier,RandomForestClassifier\n",
    "from pyspark.ml import Pipeline\n",
    "from pyspark.ml.linalg import Vectors\n",
    "from pyspark.ml.feature import (VectorAssembler,VectorIndexer,OneHotEncoder,StringIndexer)\n",
    "from pyspark.ml.classification import LogisticRegression\n",
    "from pyspark.ml.regression import (LinearRegression, RandomForestRegressor)\n",
    "from pyspark.ml import Pipeline\n",
    "from pyspark.ml.evaluation import RegressionEvaluator\n",
    "import pyspark\n",
    "from pyspark.sql import SparkSession\n",
    "from pyspark.sql.types import (StructField,StringType,IntegerType,StructType)\n",
    "spark = SparkSession.builder.appName('Iteration_8').getOrCreate()\n"
   ]
  },
  {
   "cell_type": "code",
   "execution_count": 27,
   "metadata": {},
   "outputs": [],
   "source": [
    "data = spark.read.csv(\"nzhealthsurvey2016.csv\",inferSchema=True,header=True)"
   ]
  },
  {
   "cell_type": "code",
   "execution_count": 28,
   "metadata": {},
   "outputs": [
    {
     "name": "stdout",
     "output_type": "stream",
     "text": [
      "+----------+-----------------+----+--------------+-----+------------+-------------+----+-----------+------------+------+-------------+--------------+----------------+-----------------------+------------------------+\n",
      "|population|short.description|year|         group|total|total.low.CI|total.high.CI|male|male.low.CI|male.high.CI|female|female.low.CI|female.high.CI|estimated.number|estimated.number.low.CI|estimated.number.high.CI|\n",
      "+----------+-----------------+----+--------------+-----+------------+-------------+----+-----------+------------+------+-------------+--------------+----------------+-----------------------+------------------------+\n",
      "|    adults|Physically active|2011|         Total| 54.4|        51.8|         56.9|57.3|       54.6|        59.9|  51.7|         48.7|          54.7|         1899000|                1810000|                 1986000|\n",
      "|    adults|Physically active|2011|         15-17| 58.1|        52.2|         63.7|61.1|       52.5|          69|  54.9|         45.8|          63.6|          111000|               1.00E+05|                  122000|\n",
      "|    adults|Physically active|2011|         18-24| 57.4|        52.9|         61.8|62.7|       56.9|        68.1|  52.1|         45.6|          58.5|          248000|                 229000|                  267000|\n",
      "|    adults|Physically active|2011|         15-24| 57.6|        53.6|         61.5|62.2|       57.1|          67|  52.9|         47.3|          58.5|          360000|                 334000|                  384000|\n",
      "|    adults|Physically active|2011|         25-34| 56.0|        52.2|         59.8|59.3|       54.2|        64.2|    53|           48|            58|          305000|                 284000|                  325000|\n",
      "|    adults|Physically active|2011|         35-44| 56.5|        53.0|         59.9|58.3|       53.3|        63.1|  54.8|         50.2|          59.4|          342000|                 321000|                  363000|\n",
      "|    adults|Physically active|2011|         45-54| 56.1|        52.1|         59.9|57.6|         53|        62.2|  54.6|         49.8|          59.3|          349000|                 324000|                  373000|\n",
      "|    adults|Physically active|2011|         55-64| 57.5|        54.1|         60.7|57.2|       52.3|          62|  57.7|           53|          62.3|          289000|                 272000|                  305000|\n",
      "|    adults|Physically active|2011|         65-74| 51.0|        46.9|         55.0|55.1|       50.5|        59.6|  47.1|         41.3|            53|          171000|                 157000|                  185000|\n",
      "|    adults|Physically active|2011|           75+| 32.6|        28.1|         37.4|  38|       31.9|        44.5|  28.6|         23.7|          34.1|           84000|                  73000|                   97000|\n",
      "|    adults|Physically active|2011|         Maori| 57.5|        54.1|         60.9|61.2|       56.6|        65.6|  54.2|           50|          58.4|          254000|                 239000|                  268000|\n",
      "|    adults|Physically active|2011|       Pacific| 47.4|        42.4|         52.4|53.4|       46.5|        60.2|  42.4|         35.8|          49.1|           95000|                  85000|                  105000|\n",
      "|    adults|Physically active|2011|         Asian| 40.0|        35.5|         44.7|38.9|       32.7|        45.6|    41|         35.1|          47.1|          149000|                 132000|                  166000|\n",
      "|    adults|Physically active|2011|European/Other| 56.3|        53.4|         59.2|59.4|       56.5|        62.3|  53.3|         49.9|          56.7|         1549000|                1469000|                 1628000|\n",
      "|    adults|Physically active|2011|    Quintile 1| 60.0|        54.0|         65.8|61.7|       55.4|        67.7|  58.2|         50.9|          65.2|          433000|                 390000|                  475000|\n",
      "|    adults|Physically active|2011|    Quintile 2| 52.9|        47.7|         58.0|54.6|       48.7|        60.3|  51.2|         44.8|          57.5|          376000|                 340000|                  412000|\n",
      "|    adults|Physically active|2011|    Quintile 3| 56.8|        52.2|         61.4|60.1|       54.8|        65.2|  53.8|         48.1|          59.4|        4.00E+05|                 367000|                  432000|\n",
      "|    adults|Physically active|2011|    Quintile 4| 53.6|        49.5|         57.6|57.9|         53|        62.6|  49.9|           45|          54.8|          371000|                 343000|                  398000|\n",
      "|    adults|Physically active|2011|    Quintile 5| 48.1|        44.4|         51.8|51.1|       46.5|        55.7|  45.6|         41.1|          50.2|          318000|                 293000|                  343000|\n",
      "|    adults|Physically active|2012|         Total| 51.7|        49.0|         54.4|55.8|       53.2|        58.3|  47.9|         44.6|          51.1|         1820000|                1725000|                 1915000|\n",
      "+----------+-----------------+----+--------------+-----+------------+-------------+----+-----------+------------+------+-------------+--------------+----------------+-----------------------+------------------------+\n",
      "only showing top 20 rows\n",
      "\n"
     ]
    }
   ],
   "source": [
    "#data exploration\n",
    "data.show()"
   ]
  },
  {
   "cell_type": "code",
   "execution_count": 29,
   "metadata": {},
   "outputs": [
    {
     "name": "stdout",
     "output_type": "stream",
     "text": [
      "root\n",
      " |-- population: string (nullable = true)\n",
      " |-- short.description: string (nullable = true)\n",
      " |-- year: integer (nullable = true)\n",
      " |-- group: string (nullable = true)\n",
      " |-- total: double (nullable = true)\n",
      " |-- total.low.CI: double (nullable = true)\n",
      " |-- total.high.CI: double (nullable = true)\n",
      " |-- male: string (nullable = true)\n",
      " |-- male.low.CI: string (nullable = true)\n",
      " |-- male.high.CI: string (nullable = true)\n",
      " |-- female: string (nullable = true)\n",
      " |-- female.low.CI: string (nullable = true)\n",
      " |-- female.high.CI: string (nullable = true)\n",
      " |-- estimated.number: string (nullable = true)\n",
      " |-- estimated.number.low.CI: string (nullable = true)\n",
      " |-- estimated.number.high.CI: string (nullable = true)\n",
      "\n"
     ]
    }
   ],
   "source": [
    "data.printSchema()"
   ]
  },
  {
   "cell_type": "code",
   "execution_count": 30,
   "metadata": {},
   "outputs": [
    {
     "data": {
      "text/plain": [
       "Row(population='adults', short.description='Physically active', year=2011, group='Total', total=54.4, total.low.CI=51.8, total.high.CI=56.9, male='57.3', male.low.CI='54.6', male.high.CI='59.9', female='51.7', female.low.CI='48.7', female.high.CI='54.7', estimated.number='1899000', estimated.number.low.CI='1810000', estimated.number.high.CI='1986000')"
      ]
     },
     "execution_count": 30,
     "metadata": {},
     "output_type": "execute_result"
    }
   ],
   "source": [
    "data.head()"
   ]
  },
  {
   "cell_type": "code",
   "execution_count": 31,
   "metadata": {},
   "outputs": [
    {
     "name": "stdout",
     "output_type": "stream",
     "text": [
      "+----------+-----------------+----+----------+-----+------------+-------------+----+-----------+------------+------+-------------+--------------+----------------+-----------------------+------------------------+\n",
      "|population|short.description|year|     group|total|total.low.CI|total.high.CI|male|male.low.CI|male.high.CI|female|female.low.CI|female.high.CI|estimated.number|estimated.number.low.CI|estimated.number.high.CI|\n",
      "+----------+-----------------+----+----------+-----+------------+-------------+----+-----------+------------+------+-------------+--------------+----------------+-----------------------+------------------------+\n",
      "|    adults| Anxiety disorder|2013|     35-44|  8.9|         7.4|         10.7| 7.5|        5.5|          10|  10.2|          8.2|          12.6|           52000|                  43000|                   63000|\n",
      "|    adults| Anxiety disorder|2013|     Maori|  7.7|         6.3|          9.2| 5.1|        3.9|         6.8|   9.9|          7.8|          12.6|           35000|                  29000|                   43000|\n",
      "|    adults| Anxiety disorder|2015|     Maori| 11.2|         9.7|         12.9| 8.2|        6.5|        10.3|  13.9|         11.7|          16.6|           54000|                  47000|                   63000|\n",
      "|    adults| Anxiety disorder|2014|     Asian|  2.0|         1.1|          3.2| 1.3|        0.3|         3.6|   2.7|          1.5|           4.5|            9000|                   5000|                   14000|\n",
      "|    adults| Anxiety disorder|2015|     45-54| 11.3|         9.7|         13.2| 9.5|        7.1|        12.6|    13|         10.9|          15.4|           72000|                  61000|                   84000|\n",
      "|    adults| Anxiety disorder|2015|     Asian|  2.1|         1.2|          3.4| 1.4|        0.5|         3.2|   2.9|          1.6|             5|           10000|                   6000|                   15000|\n",
      "|    adults| Anxiety disorder|2016|     15-24|  9.6|         8.0|         11.5| 6.6|        4.9|         8.9|  12.8|         10.1|          16.2|           65000|                  54000|                   77000|\n",
      "|    adults| Anxiety disorder|2016|     55-64| 10.4|         8.9|         11.9| 7.7|        5.7|        10.3|  12.8|         10.9|            15|           58000|                  50000|                   67000|\n",
      "|    adults| Anxiety disorder|2016|       75+|  7.8|         6.3|          9.7| 4.3|        2.3|         7.3|  10.6|          8.5|          13.1|           24000|                  19000|                   29000|\n",
      "|    adults| Anxiety disorder|2014|     15-24|  6.3|         5.0|          7.9| 3.6|        2.3|         5.5|   9.1|          6.9|          11.9|           41000|                  32000|                   52000|\n",
      "|    adults| Anxiety disorder|2014|       75+|  5.5|         4.0|          7.6| 2.9|        1.3|         5.7|   7.5|          5.3|          10.4|           15000|                  11000|                   21000|\n",
      "|    adults| Anxiety disorder|2016|Quintile 5| 12.3|        10.9|         13.9| 9.2|        7.1|        11.8|    15|           13|          17.2|           90000|                  79000|                  101000|\n",
      "|    adults| Anxiety disorder|2014|     35-44|  9.3|         7.8|         11.1| 6.2|        4.3|         8.8|  12.1|         10.3|          14.2|           54000|                  45000|                   65000|\n",
      "|    adults| Anxiety disorder|2012|     15-24|  5.2|         3.8|          7.0| 3.6|        2.1|         5.7|   6.9|          4.9|           9.5|           32000|                  24000|                   44000|\n",
      "|    adults| Anxiety disorder|2014|     55-64|  7.9|         6.5|          9.6|   5|        3.6|           7|  10.6|          8.4|          13.4|           42000|                  34000|                   51000|\n",
      "|    adults| Anxiety disorder|2015|     65-74|  8.9|         7.3|         10.8| 6.4|        4.5|         9.1|  11.2|          8.7|          14.4|           35000|                  29000|                   43000|\n",
      "|    adults| Anxiety disorder|2016|     65-74|  9.3|         7.8|         11.0| 6.8|          5|         9.1|  11.6|          9.3|          14.4|           38000|                  32000|                   45000|\n",
      "|    adults| Anxiety disorder|2016|     Asian|  2.8|         1.9|          4.1| 2.3|        1.2|           4|   3.4|            2|           5.4|           14000|                   9000|                   20000|\n",
      "|    adults| Anxiety disorder|2013|     15-24|  5.8|         4.3|          7.7| 4.3|        2.3|         7.3|   7.4|          5.5|           9.8|           37000|                  27000|                   49000|\n",
      "|    adults| Anxiety disorder|2013|     25-34|  7.9|         6.5|          9.6| 5.9|          4|         8.4|   9.9|            8|          12.2|           45000|                  37000|                   54000|\n",
      "+----------+-----------------+----+----------+-----+------------+-------------+----+-----------+------------+------+-------------+--------------+----------------+-----------------------+------------------------+\n",
      "only showing top 20 rows\n",
      "\n"
     ]
    }
   ],
   "source": [
    "#trims for just anxiety\n",
    "#anxiety =  data[522:624]\n",
    "anxiety = spark.createDataFrame(data.head(619), data.schema)\n",
    "tanxiety = spark.createDataFrame(anxiety.head(517), anxiety.schema)\n",
    "anxiety = anxiety.subtract(tanxiety)\n",
    "anxiety.show()"
   ]
  },
  {
   "cell_type": "code",
   "execution_count": 38,
   "metadata": {},
   "outputs": [],
   "source": [
    "anxiety = anxiety[['year', 'group','total', 'male', 'female']]\n",
    "anxiety = anxiety.filter(anxiety[\"group\"].rlike(\"[0-9]{2}-[0-9]{2}\"))"
   ]
  },
  {
   "cell_type": "code",
   "execution_count": 39,
   "metadata": {},
   "outputs": [
    {
     "name": "stdout",
     "output_type": "stream",
     "text": [
      "Coefficients: [2.4644103775102257e-16,-1.640951304877098e-13,-1.5321926219568728e-13,1.0000000000003102] \n",
      " Intercept: -4.814965468705074e-13\n",
      "+--------------------+\n",
      "|           residuals|\n",
      "+--------------------+\n",
      "|2.042810365310288...|\n",
      "|2.486899575160350...|\n",
      "|1.953992523340275...|\n",
      "|-6.21724893790087...|\n",
      "|3.552713678800501...|\n",
      "|-3.37507799486047...|\n",
      "|-1.42108547152020...|\n",
      "|1.332267629550187...|\n",
      "|4.440892098500626...|\n",
      "|3.552713678800501...|\n",
      "+--------------------+\n",
      "\n",
      "RSME: 1.7377455352225866e-14\n",
      "R2: 1.0\n",
      "+--------------------+\n",
      "|            features|\n",
      "+--------------------+\n",
      "|[2012.0,3.5999999...|\n",
      "|[2013.0,4.3000001...|\n",
      "|[2013.0,5.9000000...|\n",
      "|[2011.0,6.3000001...|\n",
      "|[2014.0,7.5999999...|\n",
      "|[2015.0,5.5,11.0,...|\n",
      "|[2011.0,3.2999999...|\n",
      "|[2013.0,5.0999999...|\n",
      "|[2011.0,5.4000000...|\n",
      "|[2013.0,8.3000001...|\n",
      "+--------------------+\n",
      "\n",
      "+--------------------+------------------+\n",
      "|            features|        prediction|\n",
      "+--------------------+------------------+\n",
      "|[2012.0,3.5999999...|  5.19999999999998|\n",
      "|[2013.0,4.3000001...| 5.799999999999975|\n",
      "|[2013.0,5.9000000...| 7.899999999999981|\n",
      "|[2011.0,6.3000001...| 7.900000000000007|\n",
      "|[2014.0,7.5999999...| 8.799999999999997|\n",
      "|[2015.0,5.5,11.0,...| 8.400000000000034|\n",
      "|[2011.0,3.2999999...| 5.500000000000014|\n",
      "|[2013.0,5.0999999...| 7.399999999999987|\n",
      "|[2011.0,5.4000000...| 6.699999999999996|\n",
      "|[2013.0,8.3000001...|11.299999999999997|\n",
      "+--------------------+------------------+\n",
      "\n"
     ]
    },
    {
     "data": {
      "text/plain": [
       "[Row(features=DenseVector([2012.0, 3.6, 6.9, 5.2]), prediction=5.19999999999998)]"
      ]
     },
     "execution_count": 39,
     "metadata": {},
     "output_type": "execute_result"
    }
   ],
   "source": [
    "assembler = VectorAssembler(\n",
    "  inputCols=['year',\n",
    "            'male',\n",
    "            'female',\n",
    "            'total'],\n",
    "              outputCol=\"features\")\n",
    "\n",
    "anxiety = anxiety.withColumn(\"male\", anxiety[\"male\"].cast('float'))\n",
    "anxiety = anxiety.withColumn(\"female\", anxiety[\"female\"].cast('float'))\n",
    "\n",
    "output = assembler.transform(anxiety)\n",
    "\n",
    "final_data = output.select(\"features\",'total')\n",
    "\n",
    "\n",
    "train_data,test_data = final_data.randomSplit([0.7,0.3])\n",
    "# We can also use the multinomial family for binary classification\n",
    "\n",
    "lr = LinearRegression(labelCol='total')\n",
    "lrModel = lr.fit(train_data)\n",
    "print(\"Coefficients: {} \\n Intercept: {}\".format(lrModel.coefficients,lrModel.intercept))\n",
    "test_results = lrModel.evaluate(test_data)\n",
    "test_results.residuals.show()\n",
    "\n",
    "# Let's get some evaluation metrics (as discussed in the previous linear regression notebook).\n",
    "print(\"RSME: {}\".format(test_results.rootMeanSquaredError))\n",
    "print(\"R2: {}\".format(test_results.r2))\n",
    "unlabeled_data = test_data.select('features')\n",
    "unlabeled_data.show()\n",
    "predictions = lrModel.transform(unlabeled_data)\n",
    "predictions.show()\n",
    "predictions.head(1)"
   ]
  },
  {
   "cell_type": "code",
   "execution_count": null,
   "metadata": {},
   "outputs": [],
   "source": []
  }
 ],
 "metadata": {
  "kernelspec": {
   "display_name": "Python 3",
   "language": "python",
   "name": "python3"
  },
  "language_info": {
   "codemirror_mode": {
    "name": "ipython",
    "version": 3
   },
   "file_extension": ".py",
   "mimetype": "text/x-python",
   "name": "python",
   "nbconvert_exporter": "python",
   "pygments_lexer": "ipython3",
   "version": "3.5.2"
  }
 },
 "nbformat": 4,
 "nbformat_minor": 2
}

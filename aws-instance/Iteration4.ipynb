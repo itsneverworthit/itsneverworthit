{
 "cells": [
  {
   "cell_type": "code",
   "execution_count": 1,
   "metadata": {},
   "outputs": [],
   "source": [
    "import numpy as np \n",
    "import matplotlib\n",
    "import matplotlib.pyplot as plt \n",
    "%matplotlib inline\n",
    "import pandas as pd \n",
    "import findspark\n",
    "findspark.init('/home/ubuntu/spark-2.1.1-bin-hadoop2.7')\n",
    "from pyspark.ml.classification import DecisionTreeClassifier,GBTClassifier,RandomForestClassifier\n",
    "from pyspark.ml import Pipeline\n",
    "from pyspark.ml.linalg import Vectors\n",
    "from pyspark.ml.feature import (VectorAssembler,VectorIndexer,OneHotEncoder,StringIndexer)\n",
    "from pyspark.ml.classification import LogisticRegression\n",
    "from pyspark.ml.regression import (LinearRegression, RandomForestRegressor)\n",
    "from pyspark.ml import Pipeline\n",
    "from pyspark.ml.evaluation import RegressionEvaluator\n",
    "import pyspark\n",
    "from pyspark.sql import SparkSession\n",
    "from pyspark.sql.types import (StructField,StringType,IntegerType,StructType)\n",
    "spark = SparkSession.builder.appName('Iteration_4').getOrCreate()"
   ]
  },
  {
   "cell_type": "code",
   "execution_count": 2,
   "metadata": {},
   "outputs": [],
   "source": [
    "data = spark.read.csv(\"nzhealthsurvey2016.csv\",inferSchema=True,header=True)"
   ]
  },
  {
   "cell_type": "code",
   "execution_count": 3,
   "metadata": {},
   "outputs": [
    {
     "name": "stdout",
     "output_type": "stream",
     "text": [
      "+----------+-----------------+----+--------------+-----+------------+-------------+----+-----------+------------+------+-------------+--------------+----------------+-----------------------+------------------------+\n",
      "|population|short.description|year|         group|total|total.low.CI|total.high.CI|male|male.low.CI|male.high.CI|female|female.low.CI|female.high.CI|estimated.number|estimated.number.low.CI|estimated.number.high.CI|\n",
      "+----------+-----------------+----+--------------+-----+------------+-------------+----+-----------+------------+------+-------------+--------------+----------------+-----------------------+------------------------+\n",
      "|    adults|Physically active|2011|         Total| 54.4|        51.8|         56.9|57.3|       54.6|        59.9|  51.7|         48.7|          54.7|         1899000|                1810000|                 1986000|\n",
      "|    adults|Physically active|2011|         15-17| 58.1|        52.2|         63.7|61.1|       52.5|          69|  54.9|         45.8|          63.6|          111000|               1.00E+05|                  122000|\n",
      "|    adults|Physically active|2011|         18-24| 57.4|        52.9|         61.8|62.7|       56.9|        68.1|  52.1|         45.6|          58.5|          248000|                 229000|                  267000|\n",
      "|    adults|Physically active|2011|         15-24| 57.6|        53.6|         61.5|62.2|       57.1|          67|  52.9|         47.3|          58.5|          360000|                 334000|                  384000|\n",
      "|    adults|Physically active|2011|         25-34| 56.0|        52.2|         59.8|59.3|       54.2|        64.2|    53|           48|            58|          305000|                 284000|                  325000|\n",
      "|    adults|Physically active|2011|         35-44| 56.5|        53.0|         59.9|58.3|       53.3|        63.1|  54.8|         50.2|          59.4|          342000|                 321000|                  363000|\n",
      "|    adults|Physically active|2011|         45-54| 56.1|        52.1|         59.9|57.6|         53|        62.2|  54.6|         49.8|          59.3|          349000|                 324000|                  373000|\n",
      "|    adults|Physically active|2011|         55-64| 57.5|        54.1|         60.7|57.2|       52.3|          62|  57.7|           53|          62.3|          289000|                 272000|                  305000|\n",
      "|    adults|Physically active|2011|         65-74| 51.0|        46.9|         55.0|55.1|       50.5|        59.6|  47.1|         41.3|            53|          171000|                 157000|                  185000|\n",
      "|    adults|Physically active|2011|           75+| 32.6|        28.1|         37.4|  38|       31.9|        44.5|  28.6|         23.7|          34.1|           84000|                  73000|                   97000|\n",
      "|    adults|Physically active|2011|         Maori| 57.5|        54.1|         60.9|61.2|       56.6|        65.6|  54.2|           50|          58.4|          254000|                 239000|                  268000|\n",
      "|    adults|Physically active|2011|       Pacific| 47.4|        42.4|         52.4|53.4|       46.5|        60.2|  42.4|         35.8|          49.1|           95000|                  85000|                  105000|\n",
      "|    adults|Physically active|2011|         Asian| 40.0|        35.5|         44.7|38.9|       32.7|        45.6|    41|         35.1|          47.1|          149000|                 132000|                  166000|\n",
      "|    adults|Physically active|2011|European/Other| 56.3|        53.4|         59.2|59.4|       56.5|        62.3|  53.3|         49.9|          56.7|         1549000|                1469000|                 1628000|\n",
      "|    adults|Physically active|2011|    Quintile 1| 60.0|        54.0|         65.8|61.7|       55.4|        67.7|  58.2|         50.9|          65.2|          433000|                 390000|                  475000|\n",
      "|    adults|Physically active|2011|    Quintile 2| 52.9|        47.7|         58.0|54.6|       48.7|        60.3|  51.2|         44.8|          57.5|          376000|                 340000|                  412000|\n",
      "|    adults|Physically active|2011|    Quintile 3| 56.8|        52.2|         61.4|60.1|       54.8|        65.2|  53.8|         48.1|          59.4|        4.00E+05|                 367000|                  432000|\n",
      "|    adults|Physically active|2011|    Quintile 4| 53.6|        49.5|         57.6|57.9|         53|        62.6|  49.9|           45|          54.8|          371000|                 343000|                  398000|\n",
      "|    adults|Physically active|2011|    Quintile 5| 48.1|        44.4|         51.8|51.1|       46.5|        55.7|  45.6|         41.1|          50.2|          318000|                 293000|                  343000|\n",
      "|    adults|Physically active|2012|         Total| 51.7|        49.0|         54.4|55.8|       53.2|        58.3|  47.9|         44.6|          51.1|         1820000|                1725000|                 1915000|\n",
      "+----------+-----------------+----+--------------+-----+------------+-------------+----+-----------+------------+------+-------------+--------------+----------------+-----------------------+------------------------+\n",
      "only showing top 20 rows\n",
      "\n"
     ]
    }
   ],
   "source": [
    "#data exploration\n",
    "data.show()"
   ]
  },
  {
   "cell_type": "code",
   "execution_count": 4,
   "metadata": {
    "scrolled": true
   },
   "outputs": [
    {
     "name": "stdout",
     "output_type": "stream",
     "text": [
      "root\n",
      " |-- population: string (nullable = true)\n",
      " |-- short.description: string (nullable = true)\n",
      " |-- year: integer (nullable = true)\n",
      " |-- group: string (nullable = true)\n",
      " |-- total: double (nullable = true)\n",
      " |-- total.low.CI: double (nullable = true)\n",
      " |-- total.high.CI: double (nullable = true)\n",
      " |-- male: string (nullable = true)\n",
      " |-- male.low.CI: string (nullable = true)\n",
      " |-- male.high.CI: string (nullable = true)\n",
      " |-- female: string (nullable = true)\n",
      " |-- female.low.CI: string (nullable = true)\n",
      " |-- female.high.CI: string (nullable = true)\n",
      " |-- estimated.number: string (nullable = true)\n",
      " |-- estimated.number.low.CI: string (nullable = true)\n",
      " |-- estimated.number.high.CI: string (nullable = true)\n",
      "\n"
     ]
    }
   ],
   "source": [
    "data.printSchema()"
   ]
  },
  {
   "cell_type": "code",
   "execution_count": 5,
   "metadata": {},
   "outputs": [
    {
     "data": {
      "text/plain": [
       "Row(population='adults', short.description='Physically active', year=2011, group='Total', total=54.4, total.low.CI=51.8, total.high.CI=56.9, male='57.3', male.low.CI='54.6', male.high.CI='59.9', female='51.7', female.low.CI='48.7', female.high.CI='54.7', estimated.number='1899000', estimated.number.low.CI='1810000', estimated.number.high.CI='1986000')"
      ]
     },
     "execution_count": 5,
     "metadata": {},
     "output_type": "execute_result"
    }
   ],
   "source": [
    "data.head()"
   ]
  },
  {
   "cell_type": "code",
   "execution_count": 6,
   "metadata": {},
   "outputs": [
    {
     "name": "stdout",
     "output_type": "stream",
     "text": [
      "+----------+-----------------+----+----------+-----+------------+-------------+----+-----------+------------+------+-------------+--------------+----------------+-----------------------+------------------------+\n",
      "|population|short.description|year|     group|total|total.low.CI|total.high.CI|male|male.low.CI|male.high.CI|female|female.low.CI|female.high.CI|estimated.number|estimated.number.low.CI|estimated.number.high.CI|\n",
      "+----------+-----------------+----+----------+-----+------------+-------------+----+-----------+------------+------+-------------+--------------+----------------+-----------------------+------------------------+\n",
      "|    adults| Anxiety disorder|2013|     35-44|  8.9|         7.4|         10.7| 7.5|        5.5|          10|  10.2|          8.2|          12.6|           52000|                  43000|                   63000|\n",
      "|    adults| Anxiety disorder|2013|     Maori|  7.7|         6.3|          9.2| 5.1|        3.9|         6.8|   9.9|          7.8|          12.6|           35000|                  29000|                   43000|\n",
      "|    adults| Anxiety disorder|2015|     Maori| 11.2|         9.7|         12.9| 8.2|        6.5|        10.3|  13.9|         11.7|          16.6|           54000|                  47000|                   63000|\n",
      "|    adults| Anxiety disorder|2014|     Asian|  2.0|         1.1|          3.2| 1.3|        0.3|         3.6|   2.7|          1.5|           4.5|            9000|                   5000|                   14000|\n",
      "|    adults| Anxiety disorder|2015|     45-54| 11.3|         9.7|         13.2| 9.5|        7.1|        12.6|    13|         10.9|          15.4|           72000|                  61000|                   84000|\n",
      "|    adults| Anxiety disorder|2015|     Asian|  2.1|         1.2|          3.4| 1.4|        0.5|         3.2|   2.9|          1.6|             5|           10000|                   6000|                   15000|\n",
      "|    adults| Anxiety disorder|2016|     15-24|  9.6|         8.0|         11.5| 6.6|        4.9|         8.9|  12.8|         10.1|          16.2|           65000|                  54000|                   77000|\n",
      "|    adults| Anxiety disorder|2016|     55-64| 10.4|         8.9|         11.9| 7.7|        5.7|        10.3|  12.8|         10.9|            15|           58000|                  50000|                   67000|\n",
      "|    adults| Anxiety disorder|2016|       75+|  7.8|         6.3|          9.7| 4.3|        2.3|         7.3|  10.6|          8.5|          13.1|           24000|                  19000|                   29000|\n",
      "|    adults| Anxiety disorder|2014|     15-24|  6.3|         5.0|          7.9| 3.6|        2.3|         5.5|   9.1|          6.9|          11.9|           41000|                  32000|                   52000|\n",
      "|    adults| Anxiety disorder|2014|       75+|  5.5|         4.0|          7.6| 2.9|        1.3|         5.7|   7.5|          5.3|          10.4|           15000|                  11000|                   21000|\n",
      "|    adults| Anxiety disorder|2016|Quintile 5| 12.3|        10.9|         13.9| 9.2|        7.1|        11.8|    15|           13|          17.2|           90000|                  79000|                  101000|\n",
      "|    adults| Anxiety disorder|2014|     35-44|  9.3|         7.8|         11.1| 6.2|        4.3|         8.8|  12.1|         10.3|          14.2|           54000|                  45000|                   65000|\n",
      "|    adults| Anxiety disorder|2012|     15-24|  5.2|         3.8|          7.0| 3.6|        2.1|         5.7|   6.9|          4.9|           9.5|           32000|                  24000|                   44000|\n",
      "|    adults| Anxiety disorder|2014|     55-64|  7.9|         6.5|          9.6|   5|        3.6|           7|  10.6|          8.4|          13.4|           42000|                  34000|                   51000|\n",
      "|    adults| Anxiety disorder|2015|     65-74|  8.9|         7.3|         10.8| 6.4|        4.5|         9.1|  11.2|          8.7|          14.4|           35000|                  29000|                   43000|\n",
      "|    adults| Anxiety disorder|2016|     65-74|  9.3|         7.8|         11.0| 6.8|          5|         9.1|  11.6|          9.3|          14.4|           38000|                  32000|                   45000|\n",
      "|    adults| Anxiety disorder|2016|     Asian|  2.8|         1.9|          4.1| 2.3|        1.2|           4|   3.4|            2|           5.4|           14000|                   9000|                   20000|\n",
      "|    adults| Anxiety disorder|2013|     15-24|  5.8|         4.3|          7.7| 4.3|        2.3|         7.3|   7.4|          5.5|           9.8|           37000|                  27000|                   49000|\n",
      "|    adults| Anxiety disorder|2013|     25-34|  7.9|         6.5|          9.6| 5.9|          4|         8.4|   9.9|            8|          12.2|           45000|                  37000|                   54000|\n",
      "+----------+-----------------+----+----------+-----+------------+-------------+----+-----------+------------+------+-------------+--------------+----------------+-----------------------+------------------------+\n",
      "only showing top 20 rows\n",
      "\n"
     ]
    }
   ],
   "source": [
    "#trims for just anxiety\n",
    "#anxiety =  data[522:624]\n",
    "anxiety = spark.createDataFrame(data.head(619), data.schema)\n",
    "tanxiety = spark.createDataFrame(anxiety.head(517), anxiety.schema)\n",
    "anxiety = anxiety.subtract(tanxiety)\n",
    "anxiety.show()"
   ]
  },
  {
   "cell_type": "code",
   "execution_count": 7,
   "metadata": {},
   "outputs": [
    {
     "name": "stdout",
     "output_type": "stream",
     "text": [
      "+----+----------+-----+----+------+\n",
      "|year|     group|total|male|female|\n",
      "+----+----------+-----+----+------+\n",
      "|2013|     35-44|  8.9| 7.5|  10.2|\n",
      "|2013|     Maori|  7.7| 5.1|   9.9|\n",
      "|2015|     Maori| 11.2| 8.2|  13.9|\n",
      "|2014|     Asian|  2.0| 1.3|   2.7|\n",
      "|2015|     45-54| 11.3| 9.5|    13|\n",
      "|2015|     Asian|  2.1| 1.4|   2.9|\n",
      "|2016|     15-24|  9.6| 6.6|  12.8|\n",
      "|2016|     55-64| 10.4| 7.7|  12.8|\n",
      "|2016|       75+|  7.8| 4.3|  10.6|\n",
      "|2014|     15-24|  6.3| 3.6|   9.1|\n",
      "|2014|       75+|  5.5| 2.9|   7.5|\n",
      "|2016|Quintile 5| 12.3| 9.2|    15|\n",
      "|2014|     35-44|  9.3| 6.2|  12.1|\n",
      "|2012|     15-24|  5.2| 3.6|   6.9|\n",
      "|2014|     55-64|  7.9|   5|  10.6|\n",
      "|2015|     65-74|  8.9| 6.4|  11.2|\n",
      "|2016|     65-74|  9.3| 6.8|  11.6|\n",
      "|2016|     Asian|  2.8| 2.3|   3.4|\n",
      "|2013|     15-24|  5.8| 4.3|   7.4|\n",
      "|2013|     25-34|  7.9| 5.9|   9.9|\n",
      "+----+----------+-----+----+------+\n",
      "only showing top 20 rows\n",
      "\n"
     ]
    }
   ],
   "source": [
    "trimmedColumns = anxiety[['year', 'group','total', 'male', 'female']]\n",
    "    \n",
    "trimmedColumns.show()"
   ]
  },
  {
   "cell_type": "code",
   "execution_count": 8,
   "metadata": {},
   "outputs": [
    {
     "name": "stdout",
     "output_type": "stream",
     "text": [
      "+----+-----+-----+----+------+\n",
      "|year|group|total|male|female|\n",
      "+----+-----+-----+----+------+\n",
      "|2013|35-44|  8.9| 7.5|  10.2|\n",
      "|2015|45-54| 11.3| 9.5|    13|\n",
      "|2016|15-24|  9.6| 6.6|  12.8|\n",
      "|2016|55-64| 10.4| 7.7|  12.8|\n",
      "|2014|15-24|  6.3| 3.6|   9.1|\n",
      "|2014|35-44|  9.3| 6.2|  12.1|\n",
      "|2012|15-24|  5.2| 3.6|   6.9|\n",
      "|2014|55-64|  7.9|   5|  10.6|\n",
      "|2015|65-74|  8.9| 6.4|  11.2|\n",
      "|2016|65-74|  9.3| 6.8|  11.6|\n",
      "|2013|15-24|  5.8| 4.3|   7.4|\n",
      "|2013|25-34|  7.9| 5.9|   9.9|\n",
      "|2015|35-44| 11.1|   8|    14|\n",
      "|2011|35-44|  7.9| 6.3|   9.3|\n",
      "|2015|25-34| 10.2| 6.3|    14|\n",
      "|2014|45-54|  8.8| 7.6|   9.8|\n",
      "|2015|55-64|  8.4| 5.5|    11|\n",
      "|2011|65-74|  5.5| 3.3|   7.6|\n",
      "|2012|25-34|  7.5| 5.4|   9.6|\n",
      "|2014|65-74|  6.8|   4|   9.3|\n",
      "+----+-----+-----+----+------+\n",
      "only showing top 20 rows\n",
      "\n"
     ]
    }
   ],
   "source": [
    "# Show only anxiety data we care about - regex pattern match \"numeric*2-numeric*2\" on group\n",
    "anxiety = trimmedColumns.filter(trimmedColumns[\"group\"].rlike(\"[0-9]{2}-[0-9]{2}\"))\n",
    "\n",
    "anxiety.show()"
   ]
  },
  {
   "cell_type": "code",
   "execution_count": 9,
   "metadata": {},
   "outputs": [
    {
     "name": "stdout",
     "output_type": "stream",
     "text": [
      "+----+-----+-----+----+------+\n",
      "|year|group|total|male|female|\n",
      "+----+-----+-----+----+------+\n",
      "|2006|15-24|  2.6| 2.3|   3.0|\n",
      "|2006|25-34|  4.6| 3.9|   5.3|\n",
      "|2006|35-44|  5.7| 4.3|   7.0|\n",
      "|2006|45-54|  3.9| 3.1|   4.8|\n",
      "|2006|55-64|  4.8| 4.4|   5.2|\n",
      "|2006|65-74|  4.5| 3.1|   5.8|\n",
      "|2007|15-24|  9.5| 7.0|  12.0|\n",
      "|2007|25-34|  6.9| 6.3|   7.5|\n",
      "|2007|35-44|  6.4| 5.4|   7.4|\n",
      "|2007|45-54|  5.1| 5.2|   5.0|\n",
      "|2007|55-64|  4.8| 4.1|   5.5|\n",
      "|2007|65-74|  5.2| 5.6|   4.9|\n",
      "|2008|15-24|  5.0| 3.9|   6.2|\n",
      "|2008|25-34|  5.3| 3.8|   6.6|\n",
      "|2008|35-44|  5.0| 4.1|   5.8|\n",
      "|2008|45-54|  4.6| 3.8|   5.3|\n",
      "|2008|55-64|  3.8| 3.0|   4.4|\n",
      "|2008|65-74|  3.5| 3.2|   3.8|\n",
      "|2009|15-24|  6.8| 6.2|   7.5|\n",
      "|2009|25-34|  6.6| 6.4|   6.7|\n",
      "+----+-----+-----+----+------+\n",
      "only showing top 20 rows\n",
      "\n"
     ]
    }
   ],
   "source": [
    "data1 = spark.read.csv(\"2006 anxiety.csv\",inferSchema=True,header=True)\n",
    "\n",
    "data1 = data1[['year', 'group', 'total', 'male', 'female']]\n",
    "data1 = data1.filter(data1[\"group\"].rlike(\"[0-9]{2}-[0-9]{2}\"))\n",
    "\n",
    "data1.show()"
   ]
  },
  {
   "cell_type": "code",
   "execution_count": 10,
   "metadata": {},
   "outputs": [
    {
     "name": "stdout",
     "output_type": "stream",
     "text": [
      "+----+-----+-----+----+------+-----------------+\n",
      "|year|group|total|male|female| avg(male-female)|\n",
      "+----+-----+-----+----+------+-----------------+\n",
      "|2006|15-24|  2.6| 2.3|   3.0|             2.65|\n",
      "|2006|25-34|  4.6| 3.9|   5.3|              4.6|\n",
      "|2006|35-44|  5.7| 4.3|   7.0|             5.65|\n",
      "|2006|45-54|  3.9| 3.1|   4.8|             3.95|\n",
      "|2006|55-64|  4.8| 4.4|   5.2|4.800000000000001|\n",
      "|2006|65-74|  4.5| 3.1|   5.8|             4.45|\n",
      "|2007|15-24|  9.5| 7.0|  12.0|              9.5|\n",
      "|2007|25-34|  6.9| 6.3|   7.5|              6.9|\n",
      "|2007|35-44|  6.4| 5.4|   7.4|              6.4|\n",
      "|2007|45-54|  5.1| 5.2|   5.0|              5.1|\n",
      "|2007|55-64|  4.8| 4.1|   5.5|              4.8|\n",
      "|2007|65-74|  5.2| 5.6|   4.9|             5.25|\n",
      "|2008|15-24|  5.0| 3.9|   6.2|             5.05|\n",
      "|2008|25-34|  5.3| 3.8|   6.6|5.199999999999999|\n",
      "|2008|35-44|  5.0| 4.1|   5.8|4.949999999999999|\n",
      "|2008|45-54|  4.6| 3.8|   5.3|             4.55|\n",
      "|2008|55-64|  3.8| 3.0|   4.4|              3.7|\n",
      "|2008|65-74|  3.5| 3.2|   3.8|              3.5|\n",
      "|2009|15-24|  6.8| 6.2|   7.5|             6.85|\n",
      "|2009|25-34|  6.6| 6.4|   6.7|6.550000000000001|\n",
      "+----+-----+-----+----+------+-----------------+\n",
      "only showing top 20 rows\n",
      "\n"
     ]
    }
   ],
   "source": [
    "concat = data1.union(anxiety)\n",
    "\n",
    "from pyspark.sql.functions import col\n",
    "\n",
    "averages = [col('male'), col('female')]\n",
    "\n",
    "averageFunc = sum(x for x in averages)/len(averages)\n",
    "\n",
    "concat = concat.withColumn('avg(male-female)', averageFunc)\n",
    "\n",
    "concat.show()"
   ]
  },
  {
   "cell_type": "code",
   "execution_count": 11,
   "metadata": {},
   "outputs": [
    {
     "name": "stdout",
     "output_type": "stream",
     "text": [
      "<class 'pandas.core.frame.DataFrame'>\n",
      "RangeIndex: 67 entries, 0 to 66\n",
      "Data columns (total 6 columns):\n",
      "year                67 non-null int64\n",
      "group               67 non-null object\n",
      "total               67 non-null float64\n",
      "male                67 non-null float64\n",
      "female              67 non-null float64\n",
      "avg(male-female)    67 non-null float64\n",
      "dtypes: float64(4), int64(1), object(1)\n",
      "memory usage: 3.2+ KB\n",
      "    year  group  total  male  female  avg(male-female)\n",
      "0   2006  15-24    2.6   2.3     3.0              2.65\n",
      "1   2006  25-34    4.6   3.9     5.3              4.60\n",
      "2   2006  35-44    5.7   4.3     7.0              5.65\n",
      "3   2006  45-54    3.9   3.1     4.8              3.95\n",
      "4   2006  55-64    4.8   4.4     5.2              4.80\n",
      "5   2006  65-74    4.5   3.1     5.8              4.45\n",
      "6   2007  15-24    9.5   7.0    12.0              9.50\n",
      "7   2007  25-34    6.9   6.3     7.5              6.90\n",
      "8   2007  35-44    6.4   5.4     7.4              6.40\n",
      "9   2007  45-54    5.1   5.2     5.0              5.10\n",
      "10  2007  55-64    4.8   4.1     5.5              4.80\n",
      "11  2007  65-74    5.2   5.6     4.9              5.25\n",
      "12  2008  15-24    5.0   3.9     6.2              5.05\n",
      "13  2008  25-34    5.3   3.8     6.6              5.20\n",
      "14  2008  35-44    5.0   4.1     5.8              4.95\n",
      "15  2008  45-54    4.6   3.8     5.3              4.55\n",
      "16  2008  55-64    3.8   3.0     4.4              3.70\n",
      "17  2008  65-74    3.5   3.2     3.8              3.50\n",
      "18  2009  15-24    6.8   6.2     7.5              6.85\n",
      "19  2009  25-34    6.6   6.4     6.7              6.55\n",
      "20  2009  35-44    6.3   5.0     7.4              6.20\n",
      "21  2009  45-54    6.6   5.4     7.7              6.55\n",
      "22  2009  55-64    5.7   4.3     7.1              5.70\n",
      "23  2009  65-74    4.4   4.1     4.6              4.35\n",
      "24  2010  15-24    7.2   4.8     9.8              7.30\n",
      "25  2010  25-34    6.6   5.7     7.4              6.55\n",
      "26  2010  35-44    6.5   6.1     6.8              6.45\n",
      "27  2010  45-54    7.4   6.3     8.5              7.40\n",
      "28  2010  55-64    4.8   4.6     5.1              4.85\n",
      "29  2010  65-74    4.4   3.5     5.2              4.35\n",
      "..   ...    ...    ...   ...     ...               ...\n",
      "37  2014  55-64    7.9   5.0    10.6              7.80\n",
      "38  2015  65-74    8.9   6.4    11.2              8.80\n",
      "39  2016  65-74    9.3   6.8    11.6              9.20\n",
      "40  2013  15-24    5.8   4.3     7.4              5.85\n",
      "41  2013  25-34    7.9   5.9     9.9              7.90\n",
      "42  2015  35-44   11.1   8.0    14.0             11.00\n",
      "43  2011  35-44    7.9   6.3     9.3              7.80\n",
      "44  2015  25-34   10.2   6.3    14.0             10.15\n",
      "45  2014  45-54    8.8   7.6     9.8              8.70\n",
      "46  2015  55-64    8.4   5.5    11.0              8.25\n",
      "47  2011  65-74    5.5   3.3     7.6              5.45\n",
      "48  2012  25-34    7.5   5.4     9.6              7.50\n",
      "49  2014  65-74    6.8   4.0     9.3              6.65\n",
      "50  2016  25-34   10.8   7.0    14.5             10.75\n",
      "51  2015  15-24    8.1   3.3    13.2              8.25\n",
      "52  2012  35-44    7.6   4.7    10.3              7.50\n",
      "53  2012  65-74    5.4   4.5     6.2              5.35\n",
      "54  2011  15-24    3.8   1.9     5.8              3.85\n",
      "55  2013  65-74    7.4   5.1     9.7              7.40\n",
      "56  2011  55-64    6.7   5.4     7.9              6.65\n",
      "57  2016  45-54   11.4   9.4    13.1             11.25\n",
      "58  2016  35-44   11.3   7.9    14.3             11.10\n",
      "59  2011  25-34    7.6   6.0     9.1              7.55\n",
      "60  2012  45-54    6.6   5.8     7.3              6.55\n",
      "61  2013  45-54   11.3   8.3    14.1             11.20\n",
      "62  2012  55-64    6.9   4.8     9.0              6.90\n",
      "63  2013  55-64   10.1   6.3    13.7             10.00\n",
      "64  2014  25-34    8.7   5.6    11.8              8.70\n",
      "65  2014  25-34    8.7   5.6    11.8              8.70\n",
      "66  2011  45-54    5.7   4.2     7.1              5.65\n",
      "\n",
      "[67 rows x 6 columns]\n"
     ]
    }
   ],
   "source": [
    "pandas_df = concat.toPandas()\n",
    "pandas_df['male'] = pd.to_numeric(pandas_df['male'])\n",
    "pandas_df['female'] = pd.to_numeric(pandas_df['female'])\n",
    "pandas_df.info()\n",
    "print(pandas_df)\n"
   ]
  },
  {
   "cell_type": "code",
   "execution_count": 12,
   "metadata": {},
   "outputs": [
    {
     "data": {
      "image/png": "[encoded data removed]",
      "text/plain": [
       "<Figure size 432x288 with 1 Axes>"
      ]
     },
     "metadata": {},
     "output_type": "display_data"
    }
   ],
   "source": [
    "pandas_df.plot(x='male', y='female', style='o')\n",
    "plt.title('% Female with Anxiety Against Male with Anxiety Per year Per Age-range')\n",
    "plt.xlabel('Male %')\n",
    "plt.ylabel('Female %')\n",
    "plt.show()\n",
    "    "
   ]
  },
  {
   "cell_type": "code",
   "execution_count": 13,
   "metadata": {},
   "outputs": [
    {
     "name": "stdout",
     "output_type": "stream",
     "text": [
      "Coefficients: [1.7843009427010172e-09,1.0206519648796634e-08,0.2184024042140399,0.2184023913959031,0.5631951898953775] \n",
      " Intercept: -3.556818954201465e-06\n",
      "+--------------------+\n",
      "|           residuals|\n",
      "+--------------------+\n",
      "|-1.49732368726063...|\n",
      "|3.797171643782349E-8|\n",
      "|-7.20333925841032...|\n",
      "|-2.30675789580914...|\n",
      "|-2.86856476350294...|\n",
      "|-1.52743320214199...|\n",
      "|4.440854528553473E-8|\n",
      "|-6.28221474840984...|\n",
      "|2.248667563264916...|\n",
      "|4.106959483607397...|\n",
      "|6.142248132334771E-8|\n",
      "|2.119180741999571...|\n",
      "|-5.17592670945532...|\n",
      "| 4.97597127946392E-8|\n",
      "|4.605607273333589...|\n",
      "|-7.20532788989203...|\n",
      "|5.025160998428646E-8|\n",
      "|5.332365837773523E-8|\n",
      "|1.138818177537359...|\n",
      "|-2.90385848700225...|\n",
      "+--------------------+\n",
      "only showing top 20 rows\n",
      "\n",
      "RSME: 4.2883797466464135e-08\n",
      "R2: 0.9999999999999997\n",
      "+--------------------+\n",
      "|            features|\n",
      "+--------------------+\n",
      "|[2006.0,3.9,3.099...|\n",
      "|[2007.0,5.1,5.199...|\n",
      "|[2008.0,3.5,3.200...|\n",
      "|[2008.0,3.8,3.0,4...|\n",
      "|[2008.0,4.6,3.799...|\n",
      "|[2008.0,5.0,4.099...|\n",
      "|[2008.0,5.3,3.799...|\n",
      "|[2009.0,5.7,4.300...|\n",
      "|[2009.0,6.6,6.400...|\n",
      "|[2010.0,4.4,3.5,5...|\n",
      "|[2013.0,8.9,7.5,1...|\n",
      "|[2016.0,9.6,6.599...|\n",
      "|[2014.0,7.9,5.0,1...|\n",
      "|[2015.0,8.9,6.400...|\n",
      "|[2015.0,11.1,8.0,...|\n",
      "|[2014.0,8.8,7.599...|\n",
      "|[2011.0,5.5,3.299...|\n",
      "|[2016.0,10.8,7.0,...|\n",
      "|[2015.0,8.1,3.299...|\n",
      "|[2011.0,6.7,5.400...|\n",
      "+--------------------+\n",
      "only showing top 20 rows\n",
      "\n",
      "+--------------------+------------------+\n",
      "|            features|        prediction|\n",
      "+--------------------+------------------+\n",
      "|[2006.0,3.9,3.099...| 3.950000014973237|\n",
      "|[2007.0,5.1,5.199...| 5.099999962028283|\n",
      "|[2008.0,3.5,3.200...|3.5000000072033393|\n",
      "|[2008.0,3.8,3.0,4...| 3.700000023067579|\n",
      "|[2008.0,4.6,3.799...|4.5500000286856475|\n",
      "|[2008.0,5.0,4.099...| 4.950000015274331|\n",
      "|[2008.0,5.3,3.799...| 5.199999955591454|\n",
      "|[2009.0,5.7,4.300...| 5.700000006282214|\n",
      "|[2009.0,6.6,6.400...| 6.549999977513325|\n",
      "|[2010.0,4.4,3.5,5...| 4.349999958930405|\n",
      "|[2013.0,8.9,7.5,1...| 8.849999938577518|\n",
      "|[2016.0,9.6,6.599...| 9.699999978808192|\n",
      "|[2014.0,7.9,5.0,1...| 7.800000051759267|\n",
      "|[2015.0,8.9,6.400...| 8.799999950240288|\n",
      "|[2015.0,11.1,8.0,...|10.999999953943927|\n",
      "|[2014.0,8.8,7.599...| 8.700000007205327|\n",
      "|[2011.0,5.5,3.299...| 5.449999949748389|\n",
      "|[2016.0,10.8,7.0,...|10.749999946676342|\n",
      "|[2015.0,8.1,3.299...| 8.249999886118182|\n",
      "|[2011.0,6.7,5.400...| 6.650000029038585|\n",
      "+--------------------+------------------+\n",
      "only showing top 20 rows\n",
      "\n"
     ]
    },
    {
     "data": {
      "text/plain": [
       "[Row(features=DenseVector([2006.0, 3.9, 3.1, 4.8, 3.95]), prediction=3.950000014973237)]"
      ]
     },
     "execution_count": 13,
     "metadata": {},
     "output_type": "execute_result"
    }
   ],
   "source": [
    "\n",
    "assembler = VectorAssembler(\n",
    "  inputCols=['year',\n",
    "            'total',\n",
    "            'male',\n",
    "            'female',\n",
    "            'avg(male-female)'],\n",
    "              outputCol=\"features\")\n",
    "\n",
    "concat1 = concat.withColumn(\"male\", concat[\"male\"].cast('float'))\n",
    "concat1 = concat1.withColumn(\"female\", concat1[\"female\"].cast('float'))\n",
    "\n",
    "output = assembler.transform(concat1)\n",
    "\n",
    "final_data = output.select(\"features\",'avg(male-female)')\n",
    "\n",
    "\n",
    "train_data,test_data = final_data.randomSplit([0.7,0.3])\n",
    "# We can also use the multinomial family for binary classification\n",
    "\n",
    "lr = LinearRegression(labelCol='avg(male-female)')\n",
    "lrModel = lr.fit(train_data)\n",
    "print(\"Coefficients: {} \\n Intercept: {}\".format(lrModel.coefficients,lrModel.intercept))\n",
    "test_results = lrModel.evaluate(test_data)\n",
    "test_results.residuals.show()\n",
    "\n",
    "# Let's get some evaluation metrics (as discussed in the previous linear regression notebook).\n",
    "print(\"RSME: {}\".format(test_results.rootMeanSquaredError))\n",
    "print(\"R2: {}\".format(test_results.r2))\n",
    "unlabeled_data = test_data.select('features')\n",
    "unlabeled_data.show()\n",
    "predictions = lrModel.transform(unlabeled_data)\n",
    "predictions.show()\n",
    "predictions.head(1)"
   ]
  },
  {
   "cell_type": "code",
   "execution_count": 18,
   "metadata": {},
   "outputs": [
    {
     "ename": "IllegalArgumentException",
     "evalue": "'Field \"label\" does not exist.'",
     "output_type": "error",
     "traceback": [
      "\u001b[0;31m---------------------------------------------------------------------------\u001b[0m",
      "\u001b[0;31mPy4JJavaError\u001b[0m                             Traceback (most recent call last)",
      "\u001b[0;32m~/spark-2.1.1-bin-hadoop2.7/python/pyspark/sql/utils.py\u001b[0m in \u001b[0;36mdeco\u001b[0;34m(*a, **kw)\u001b[0m\n\u001b[1;32m     62\u001b[0m         \u001b[0;32mtry\u001b[0m\u001b[0;34m:\u001b[0m\u001b[0;34m\u001b[0m\u001b[0m\n\u001b[0;32m---> 63\u001b[0;31m             \u001b[0;32mreturn\u001b[0m \u001b[0mf\u001b[0m\u001b[0;34m(\u001b[0m\u001b[0;34m*\u001b[0m\u001b[0ma\u001b[0m\u001b[0;34m,\u001b[0m \u001b[0;34m**\u001b[0m\u001b[0mkw\u001b[0m\u001b[0;34m)\u001b[0m\u001b[0;34m\u001b[0m\u001b[0m\n\u001b[0m\u001b[1;32m     64\u001b[0m         \u001b[0;32mexcept\u001b[0m \u001b[0mpy4j\u001b[0m\u001b[0;34m.\u001b[0m\u001b[0mprotocol\u001b[0m\u001b[0;34m.\u001b[0m\u001b[0mPy4JJavaError\u001b[0m \u001b[0;32mas\u001b[0m \u001b[0me\u001b[0m\u001b[0;34m:\u001b[0m\u001b[0;34m\u001b[0m\u001b[0m\n",
      "\u001b[0;32m~/spark-2.1.1-bin-hadoop2.7/python/lib/py4j-0.10.4-src.zip/py4j/protocol.py\u001b[0m in \u001b[0;36mget_return_value\u001b[0;34m(answer, gateway_client, target_id, name)\u001b[0m\n\u001b[1;32m    318\u001b[0m                     \u001b[0;34m\"An error occurred while calling {0}{1}{2}.\\n\"\u001b[0m\u001b[0;34m.\u001b[0m\u001b[0;34m\u001b[0m\u001b[0m\n\u001b[0;32m--> 319\u001b[0;31m                     format(target_id, \".\", name), value)\n\u001b[0m\u001b[1;32m    320\u001b[0m             \u001b[0;32melse\u001b[0m\u001b[0;34m:\u001b[0m\u001b[0;34m\u001b[0m\u001b[0m\n",
      "\u001b[0;31mPy4JJavaError\u001b[0m: An error occurred while calling o407.fit.\n: java.lang.IllegalArgumentException: Field \"label\" does not exist.\n\tat org.apache.spark.sql.types.StructType$$anonfun$apply$1.apply(StructType.scala:264)\n\tat org.apache.spark.sql.types.StructType$$anonfun$apply$1.apply(StructType.scala:264)\n\tat scala.collection.MapLike$class.getOrElse(MapLike.scala:128)\n\tat scala.collection.AbstractMap.getOrElse(Map.scala:59)\n\tat org.apache.spark.sql.types.StructType.apply(StructType.scala:263)\n\tat org.apache.spark.ml.util.SchemaUtils$.checkNumericType(SchemaUtils.scala:71)\n\tat org.apache.spark.ml.PredictorParams$class.validateAndTransformSchema(Predictor.scala:53)\n\tat org.apache.spark.ml.Predictor.validateAndTransformSchema(Predictor.scala:72)\n\tat org.apache.spark.ml.Predictor.transformSchema(Predictor.scala:122)\n\tat org.apache.spark.ml.PipelineStage.transformSchema(Pipeline.scala:74)\n\tat org.apache.spark.ml.Predictor.fit(Predictor.scala:90)\n\tat sun.reflect.NativeMethodAccessorImpl.invoke0(Native Method)\n\tat sun.reflect.NativeMethodAccessorImpl.invoke(NativeMethodAccessorImpl.java:62)\n\tat sun.reflect.DelegatingMethodAccessorImpl.invoke(DelegatingMethodAccessorImpl.java:43)\n\tat java.lang.reflect.Method.invoke(Method.java:498)\n\tat py4j.reflection.MethodInvoker.invoke(MethodInvoker.java:244)\n\tat py4j.reflection.ReflectionEngine.invoke(ReflectionEngine.java:357)\n\tat py4j.Gateway.invoke(Gateway.java:280)\n\tat py4j.commands.AbstractCommand.invokeMethod(AbstractCommand.java:132)\n\tat py4j.commands.CallCommand.execute(CallCommand.java:79)\n\tat py4j.GatewayConnection.run(GatewayConnection.java:214)\n\tat java.lang.Thread.run(Thread.java:748)\n",
      "\nDuring handling of the above exception, another exception occurred:\n",
      "\u001b[0;31mIllegalArgumentException\u001b[0m                  Traceback (most recent call last)",
      "\u001b[0;32m<ipython-input-18-c9128fdfd5c4>\u001b[0m in \u001b[0;36m<module>\u001b[0;34m()\u001b[0m\n\u001b[1;32m     32\u001b[0m \u001b[0;34m\u001b[0m\u001b[0m\n\u001b[1;32m     33\u001b[0m \u001b[0;31m# Train model.  This also runs the indexer.\u001b[0m\u001b[0;34m\u001b[0m\u001b[0;34m\u001b[0m\u001b[0m\n\u001b[0;32m---> 34\u001b[0;31m \u001b[0mmodel\u001b[0m \u001b[0;34m=\u001b[0m \u001b[0mpipeline\u001b[0m\u001b[0;34m.\u001b[0m\u001b[0mfit\u001b[0m\u001b[0;34m(\u001b[0m\u001b[0mtrain_data\u001b[0m\u001b[0;34m)\u001b[0m\u001b[0;34m\u001b[0m\u001b[0m\n\u001b[0m\u001b[1;32m     35\u001b[0m \u001b[0;34m\u001b[0m\u001b[0m\n\u001b[1;32m     36\u001b[0m \u001b[0;31m# Make predictions.\u001b[0m\u001b[0;34m\u001b[0m\u001b[0;34m\u001b[0m\u001b[0m\n",
      "\u001b[0;32m~/spark-2.1.1-bin-hadoop2.7/python/pyspark/ml/base.py\u001b[0m in \u001b[0;36mfit\u001b[0;34m(self, dataset, params)\u001b[0m\n\u001b[1;32m     62\u001b[0m                 \u001b[0;32mreturn\u001b[0m \u001b[0mself\u001b[0m\u001b[0;34m.\u001b[0m\u001b[0mcopy\u001b[0m\u001b[0;34m(\u001b[0m\u001b[0mparams\u001b[0m\u001b[0;34m)\u001b[0m\u001b[0;34m.\u001b[0m\u001b[0m_fit\u001b[0m\u001b[0;34m(\u001b[0m\u001b[0mdataset\u001b[0m\u001b[0;34m)\u001b[0m\u001b[0;34m\u001b[0m\u001b[0m\n\u001b[1;32m     63\u001b[0m             \u001b[0;32melse\u001b[0m\u001b[0;34m:\u001b[0m\u001b[0;34m\u001b[0m\u001b[0m\n\u001b[0;32m---> 64\u001b[0;31m                 \u001b[0;32mreturn\u001b[0m \u001b[0mself\u001b[0m\u001b[0;34m.\u001b[0m\u001b[0m_fit\u001b[0m\u001b[0;34m(\u001b[0m\u001b[0mdataset\u001b[0m\u001b[0;34m)\u001b[0m\u001b[0;34m\u001b[0m\u001b[0m\n\u001b[0m\u001b[1;32m     65\u001b[0m         \u001b[0;32melse\u001b[0m\u001b[0;34m:\u001b[0m\u001b[0;34m\u001b[0m\u001b[0m\n\u001b[1;32m     66\u001b[0m             raise ValueError(\"Params must be either a param map or a list/tuple of param maps, \"\n",
      "\u001b[0;32m~/spark-2.1.1-bin-hadoop2.7/python/pyspark/ml/pipeline.py\u001b[0m in \u001b[0;36m_fit\u001b[0;34m(self, dataset)\u001b[0m\n\u001b[1;32m    106\u001b[0m                     \u001b[0mdataset\u001b[0m \u001b[0;34m=\u001b[0m \u001b[0mstage\u001b[0m\u001b[0;34m.\u001b[0m\u001b[0mtransform\u001b[0m\u001b[0;34m(\u001b[0m\u001b[0mdataset\u001b[0m\u001b[0;34m)\u001b[0m\u001b[0;34m\u001b[0m\u001b[0m\n\u001b[1;32m    107\u001b[0m                 \u001b[0;32melse\u001b[0m\u001b[0;34m:\u001b[0m  \u001b[0;31m# must be an Estimator\u001b[0m\u001b[0;34m\u001b[0m\u001b[0m\n\u001b[0;32m--> 108\u001b[0;31m                     \u001b[0mmodel\u001b[0m \u001b[0;34m=\u001b[0m \u001b[0mstage\u001b[0m\u001b[0;34m.\u001b[0m\u001b[0mfit\u001b[0m\u001b[0;34m(\u001b[0m\u001b[0mdataset\u001b[0m\u001b[0;34m)\u001b[0m\u001b[0;34m\u001b[0m\u001b[0m\n\u001b[0m\u001b[1;32m    109\u001b[0m                     \u001b[0mtransformers\u001b[0m\u001b[0;34m.\u001b[0m\u001b[0mappend\u001b[0m\u001b[0;34m(\u001b[0m\u001b[0mmodel\u001b[0m\u001b[0;34m)\u001b[0m\u001b[0;34m\u001b[0m\u001b[0m\n\u001b[1;32m    110\u001b[0m                     \u001b[0;32mif\u001b[0m \u001b[0mi\u001b[0m \u001b[0;34m<\u001b[0m \u001b[0mindexOfLastEstimator\u001b[0m\u001b[0;34m:\u001b[0m\u001b[0;34m\u001b[0m\u001b[0m\n",
      "\u001b[0;32m~/spark-2.1.1-bin-hadoop2.7/python/pyspark/ml/base.py\u001b[0m in \u001b[0;36mfit\u001b[0;34m(self, dataset, params)\u001b[0m\n\u001b[1;32m     62\u001b[0m                 \u001b[0;32mreturn\u001b[0m \u001b[0mself\u001b[0m\u001b[0;34m.\u001b[0m\u001b[0mcopy\u001b[0m\u001b[0;34m(\u001b[0m\u001b[0mparams\u001b[0m\u001b[0;34m)\u001b[0m\u001b[0;34m.\u001b[0m\u001b[0m_fit\u001b[0m\u001b[0;34m(\u001b[0m\u001b[0mdataset\u001b[0m\u001b[0;34m)\u001b[0m\u001b[0;34m\u001b[0m\u001b[0m\n\u001b[1;32m     63\u001b[0m             \u001b[0;32melse\u001b[0m\u001b[0;34m:\u001b[0m\u001b[0;34m\u001b[0m\u001b[0m\n\u001b[0;32m---> 64\u001b[0;31m                 \u001b[0;32mreturn\u001b[0m \u001b[0mself\u001b[0m\u001b[0;34m.\u001b[0m\u001b[0m_fit\u001b[0m\u001b[0;34m(\u001b[0m\u001b[0mdataset\u001b[0m\u001b[0;34m)\u001b[0m\u001b[0;34m\u001b[0m\u001b[0m\n\u001b[0m\u001b[1;32m     65\u001b[0m         \u001b[0;32melse\u001b[0m\u001b[0;34m:\u001b[0m\u001b[0;34m\u001b[0m\u001b[0m\n\u001b[1;32m     66\u001b[0m             raise ValueError(\"Params must be either a param map or a list/tuple of param maps, \"\n",
      "\u001b[0;32m~/spark-2.1.1-bin-hadoop2.7/python/pyspark/ml/wrapper.py\u001b[0m in \u001b[0;36m_fit\u001b[0;34m(self, dataset)\u001b[0m\n\u001b[1;32m    234\u001b[0m \u001b[0;34m\u001b[0m\u001b[0m\n\u001b[1;32m    235\u001b[0m     \u001b[0;32mdef\u001b[0m \u001b[0m_fit\u001b[0m\u001b[0;34m(\u001b[0m\u001b[0mself\u001b[0m\u001b[0;34m,\u001b[0m \u001b[0mdataset\u001b[0m\u001b[0;34m)\u001b[0m\u001b[0;34m:\u001b[0m\u001b[0;34m\u001b[0m\u001b[0m\n\u001b[0;32m--> 236\u001b[0;31m         \u001b[0mjava_model\u001b[0m \u001b[0;34m=\u001b[0m \u001b[0mself\u001b[0m\u001b[0;34m.\u001b[0m\u001b[0m_fit_java\u001b[0m\u001b[0;34m(\u001b[0m\u001b[0mdataset\u001b[0m\u001b[0;34m)\u001b[0m\u001b[0;34m\u001b[0m\u001b[0m\n\u001b[0m\u001b[1;32m    237\u001b[0m         \u001b[0;32mreturn\u001b[0m \u001b[0mself\u001b[0m\u001b[0;34m.\u001b[0m\u001b[0m_create_model\u001b[0m\u001b[0;34m(\u001b[0m\u001b[0mjava_model\u001b[0m\u001b[0;34m)\u001b[0m\u001b[0;34m\u001b[0m\u001b[0m\n\u001b[1;32m    238\u001b[0m \u001b[0;34m\u001b[0m\u001b[0m\n",
      "\u001b[0;32m~/spark-2.1.1-bin-hadoop2.7/python/pyspark/ml/wrapper.py\u001b[0m in \u001b[0;36m_fit_java\u001b[0;34m(self, dataset)\u001b[0m\n\u001b[1;32m    231\u001b[0m         \"\"\"\n\u001b[1;32m    232\u001b[0m         \u001b[0mself\u001b[0m\u001b[0;34m.\u001b[0m\u001b[0m_transfer_params_to_java\u001b[0m\u001b[0;34m(\u001b[0m\u001b[0;34m)\u001b[0m\u001b[0;34m\u001b[0m\u001b[0m\n\u001b[0;32m--> 233\u001b[0;31m         \u001b[0;32mreturn\u001b[0m \u001b[0mself\u001b[0m\u001b[0;34m.\u001b[0m\u001b[0m_java_obj\u001b[0m\u001b[0;34m.\u001b[0m\u001b[0mfit\u001b[0m\u001b[0;34m(\u001b[0m\u001b[0mdataset\u001b[0m\u001b[0;34m.\u001b[0m\u001b[0m_jdf\u001b[0m\u001b[0;34m)\u001b[0m\u001b[0;34m\u001b[0m\u001b[0m\n\u001b[0m\u001b[1;32m    234\u001b[0m \u001b[0;34m\u001b[0m\u001b[0m\n\u001b[1;32m    235\u001b[0m     \u001b[0;32mdef\u001b[0m \u001b[0m_fit\u001b[0m\u001b[0;34m(\u001b[0m\u001b[0mself\u001b[0m\u001b[0;34m,\u001b[0m \u001b[0mdataset\u001b[0m\u001b[0;34m)\u001b[0m\u001b[0;34m:\u001b[0m\u001b[0;34m\u001b[0m\u001b[0m\n",
      "\u001b[0;32m~/spark-2.1.1-bin-hadoop2.7/python/lib/py4j-0.10.4-src.zip/py4j/java_gateway.py\u001b[0m in \u001b[0;36m__call__\u001b[0;34m(self, *args)\u001b[0m\n\u001b[1;32m   1131\u001b[0m         \u001b[0manswer\u001b[0m \u001b[0;34m=\u001b[0m \u001b[0mself\u001b[0m\u001b[0;34m.\u001b[0m\u001b[0mgateway_client\u001b[0m\u001b[0;34m.\u001b[0m\u001b[0msend_command\u001b[0m\u001b[0;34m(\u001b[0m\u001b[0mcommand\u001b[0m\u001b[0;34m)\u001b[0m\u001b[0;34m\u001b[0m\u001b[0m\n\u001b[1;32m   1132\u001b[0m         return_value = get_return_value(\n\u001b[0;32m-> 1133\u001b[0;31m             answer, self.gateway_client, self.target_id, self.name)\n\u001b[0m\u001b[1;32m   1134\u001b[0m \u001b[0;34m\u001b[0m\u001b[0m\n\u001b[1;32m   1135\u001b[0m         \u001b[0;32mfor\u001b[0m \u001b[0mtemp_arg\u001b[0m \u001b[0;32min\u001b[0m \u001b[0mtemp_args\u001b[0m\u001b[0;34m:\u001b[0m\u001b[0;34m\u001b[0m\u001b[0m\n",
      "\u001b[0;32m~/spark-2.1.1-bin-hadoop2.7/python/pyspark/sql/utils.py\u001b[0m in \u001b[0;36mdeco\u001b[0;34m(*a, **kw)\u001b[0m\n\u001b[1;32m     77\u001b[0m                 \u001b[0;32mraise\u001b[0m \u001b[0mQueryExecutionException\u001b[0m\u001b[0;34m(\u001b[0m\u001b[0ms\u001b[0m\u001b[0;34m.\u001b[0m\u001b[0msplit\u001b[0m\u001b[0;34m(\u001b[0m\u001b[0;34m': '\u001b[0m\u001b[0;34m,\u001b[0m \u001b[0;36m1\u001b[0m\u001b[0;34m)\u001b[0m\u001b[0;34m[\u001b[0m\u001b[0;36m1\u001b[0m\u001b[0;34m]\u001b[0m\u001b[0;34m,\u001b[0m \u001b[0mstackTrace\u001b[0m\u001b[0;34m)\u001b[0m\u001b[0;34m\u001b[0m\u001b[0m\n\u001b[1;32m     78\u001b[0m             \u001b[0;32mif\u001b[0m \u001b[0ms\u001b[0m\u001b[0;34m.\u001b[0m\u001b[0mstartswith\u001b[0m\u001b[0;34m(\u001b[0m\u001b[0;34m'java.lang.IllegalArgumentException: '\u001b[0m\u001b[0;34m)\u001b[0m\u001b[0;34m:\u001b[0m\u001b[0;34m\u001b[0m\u001b[0m\n\u001b[0;32m---> 79\u001b[0;31m                 \u001b[0;32mraise\u001b[0m \u001b[0mIllegalArgumentException\u001b[0m\u001b[0;34m(\u001b[0m\u001b[0ms\u001b[0m\u001b[0;34m.\u001b[0m\u001b[0msplit\u001b[0m\u001b[0;34m(\u001b[0m\u001b[0;34m': '\u001b[0m\u001b[0;34m,\u001b[0m \u001b[0;36m1\u001b[0m\u001b[0;34m)\u001b[0m\u001b[0;34m[\u001b[0m\u001b[0;36m1\u001b[0m\u001b[0;34m]\u001b[0m\u001b[0;34m,\u001b[0m \u001b[0mstackTrace\u001b[0m\u001b[0;34m)\u001b[0m\u001b[0;34m\u001b[0m\u001b[0m\n\u001b[0m\u001b[1;32m     80\u001b[0m             \u001b[0;32mraise\u001b[0m\u001b[0;34m\u001b[0m\u001b[0m\n\u001b[1;32m     81\u001b[0m     \u001b[0;32mreturn\u001b[0m \u001b[0mdeco\u001b[0m\u001b[0;34m\u001b[0m\u001b[0m\n",
      "\u001b[0;31mIllegalArgumentException\u001b[0m: 'Field \"label\" does not exist.'"
     ]
    }
   ],
   "source": [
    "#Random forest \n",
    "\n",
    "\n",
    "\n",
    "# Automatically identify categorical features, and index them.\n",
    "# Set maxCategories so features with > 4 distinct values are treated as continuous.\n",
    "\n",
    "assembler = VectorAssembler(\n",
    "  inputCols=['year',\n",
    "            'total',\n",
    "            'male',\n",
    "            'female',\n",
    "            'avg(male-female)'],\n",
    "              outputCol=\"features\")\n",
    "concat = concat.withColumn(\"male\", concat[\"male\"].cast('float'))\n",
    "concat = concat.withColumn(\"female\", concat[\"female\"].cast('float'))\n",
    "\n",
    "output = assembler.transform(concat)\n",
    "\n",
    "final_data = output.select(\"features\",'avg(male-female)')\n",
    "\n",
    "\n",
    "featureIndexer = VectorIndexer(inputCol=\"features\", outputCol=\"indexedFeatures\", maxCategories=4).fit(final_data)\n",
    "\n",
    "train_data,test_data = final_data.randomSplit([0.7,0.3])\n",
    "\n",
    "# Train a RandomForest model.\n",
    "rf = RandomForestRegressor(featuresCol=\"indexedFeatures\")\n",
    "\n",
    "# Chain indexer and forest in a Pipeline\n",
    "pipeline = Pipeline(stages=[featureIndexer, rf])\n",
    "\n",
    "# Train model.  This also runs the indexer.\n",
    "model = pipeline.fit(train_data)\n",
    "\n",
    "# Make predictions.\n",
    "predictions = model.transform(test_data)\n",
    "\n",
    "# Select example rows to display.\n",
    "predictions.select(\"prediction\", \"group\", \"features\").show(5)\n",
    "\n",
    "# Select (prediction, true label) and compute test error\n",
    "evaluator = RegressionEvaluator(\n",
    "    labelCol=\"group\", predictionCol=\"prediction\", metricName=\"rmse\")\n",
    "rmse = evaluator.evaluate(predictions)\n",
    "print(\"Root Mean Squared Error (RMSE) on test data = %g\" % rmse)\n",
    "\n",
    "rfModel = model.stages[1]\n",
    "print(rfModel)  # summary only"
   ]
  },
  {
   "cell_type": "code",
   "execution_count": null,
   "metadata": {},
   "outputs": [],
   "source": [
    "#Decision Tree \n",
    "from pyspark.ml import Pipeline\n",
    "from pyspark.ml.regression import DecisionTreeRegressor\n",
    "from pyspark.ml.feature import VectorIndexer\n",
    "from pyspark.ml.evaluation import RegressionEvaluator\n",
    "\n",
    "# Load the data stored in LIBSVM format as a DataFrame.\n",
    "data = spark.read.format(\"libsvm\").load(\"data/mllib/sample_libsvm_data.txt\")\n",
    "\n",
    "# Automatically identify categorical features, and index them.\n",
    "# We specify maxCategories so features with > 4 distinct values are treated as continuous.\n",
    "featureIndexer =\\\n",
    "    VectorIndexer(inputCol=\"features\", outputCol=\"indexedFeatures\", maxCategories=4).fit(data)\n",
    "\n",
    "# Split the data into training and test sets (30% held out for testing)\n",
    "(trainingData, testData) = data.randomSplit([0.7, 0.3])\n",
    "\n",
    "# Train a DecisionTree model.\n",
    "dt = DecisionTreeRegressor(featuresCol=\"indexedFeatures\")\n",
    "\n",
    "# Chain indexer and tree in a Pipeline\n",
    "pipeline = Pipeline(stages=[featureIndexer, dt])\n",
    "\n",
    "# Train model.  This also runs the indexer.\n",
    "model = pipeline.fit(trainingData)\n",
    "\n",
    "# Make predictions.\n",
    "predictions = model.transform(testData)\n",
    "\n",
    "# Select example rows to display.\n",
    "predictions.select(\"prediction\", \"label\", \"features\").show(5)\n",
    "\n",
    "# Select (prediction, true label) and compute test error\n",
    "evaluator = RegressionEvaluator(\n",
    "    labelCol=\"label\", predictionCol=\"prediction\", metricName=\"rmse\")\n",
    "rmse = evaluator.evaluate(predictions)\n",
    "print(\"Root Mean Squared Error (RMSE) on test data = %g\" % rmse)\n",
    "\n",
    "treeModel = model.stages[1]\n",
    "# summary only\n",
    "print(treeModel)"
   ]
  }
 ],
 "metadata": {
  "kernelspec": {
   "display_name": "Python 3",
   "language": "python",
   "name": "python3"
  },
  "language_info": {
   "codemirror_mode": {
    "name": "ipython",
    "version": 3
   },
   "file_extension": ".py",
   "mimetype": "text/x-python",
   "name": "python",
   "nbconvert_exporter": "python",
   "pygments_lexer": "ipython3",
   "version": "3.5.2"
  }
 },
 "nbformat": 4,
 "nbformat_minor": 2
}
